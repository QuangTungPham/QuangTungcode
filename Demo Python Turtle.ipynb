{
 "cells": [
  {
   "cell_type": "markdown",
   "id": "dc718fde",
   "metadata": {},
   "source": [
    "# TÌM HIỂU THƯ VIỆN TURTLE\n",
    "1. Sử dụng lệnh PIP\n",
    "2. Thư viện Turtle\n",
    "3. Điều khiển chuyển động trong turle\n",
    "4. Điều khiển nét bút trong turtle"
   ]
  },
  {
   "cell_type": "markdown",
   "id": "df7065ed",
   "metadata": {},
   "source": [
    "## LỆNH PIP\n",
    "PIP là một trình quản lý gói cho Python, cho phép cài đặt và\n",
    "quản lý các thư viện và dependency mà không được phân\n",
    "phối như một phần của thư viện chuẩn của Python.\n",
    "> pip command"
   ]
  },
  {
   "cell_type": "markdown",
   "id": "f33877e9",
   "metadata": {},
   "source": [
    "Để kiểm tra pip đang chạy trên máy tính, chúng ta có thể sử dụng command:"
   ]
  },
  {
   "cell_type": "code",
   "execution_count": 3,
   "id": "176a259c",
   "metadata": {},
   "outputs": [
    {
     "name": "stdout",
     "output_type": "stream",
     "text": [
      "pip 21.2.4 from C:\\Users\\Quang Tung\\AppData\\Local\\Programs\\Python\\Python310\\lib\\site-packages\\pip (python 3.10)\n",
      "\n"
     ]
    }
   ],
   "source": [
    "! pip --version"
   ]
  },
  {
   "cell_type": "code",
   "execution_count": null,
   "id": "83fc6602",
   "metadata": {},
   "outputs": [],
   "source": []
  },
  {
   "cell_type": "markdown",
   "id": "5de29f0c",
   "metadata": {},
   "source": [
    "# THƯ VIỆN TURLTE\n",
    "- Turtle graphic là một chương trình con có sẵn trong python khi bạn đã cài Python lên máy\n",
    "- Turtle được xem như một cây bút vẽ, di chuyển đến đâu là vẽ hình đến đó"
   ]
  },
  {
   "cell_type": "markdown",
   "id": "41610170",
   "metadata": {},
   "source": [
    "### Cài đặt thư viện turtle với pip"
   ]
  },
  {
   "cell_type": "code",
   "execution_count": 2,
   "id": "269755c7",
   "metadata": {},
   "outputs": [
    {
     "name": "stdout",
     "output_type": "stream",
     "text": [
      "Requirement already satisfied: jupyter in c:\\users\\quang tung\\appdata\\local\\programs\\python\\python310\\lib\\site-packages (1.0.0)"
     ]
    },
    {
     "name": "stderr",
     "output_type": "stream",
     "text": [
      "WARNING: You are using pip version 21.2.4; however, version 22.0.3 is available.\n",
      "You should consider upgrading via the 'C:\\Users\\Quang Tung\\AppData\\Local\\Programs\\Python\\Python310\\python.exe -m pip install --upgrade pip' command.\n"
     ]
    },
    {
     "name": "stdout",
     "output_type": "stream",
     "text": [
      "\n",
      "Requirement already satisfied: ipywidgets in c:\\users\\quang tung\\appdata\\local\\programs\\python\\python310\\lib\\site-packages (from jupyter) (7.6.5)\n",
      "Requirement already satisfied: notebook in c:\\users\\quang tung\\appdata\\local\\programs\\python\\python310\\lib\\site-packages (from jupyter) (6.4.8)\n",
      "Requirement already satisfied: ipykernel in c:\\users\\quang tung\\appdata\\local\\programs\\python\\python310\\lib\\site-packages (from jupyter) (6.9.1)\n",
      "Requirement already satisfied: jupyter-console in c:\\users\\quang tung\\appdata\\local\\programs\\python\\python310\\lib\\site-packages (from jupyter) (6.4.0)\n",
      "Requirement already satisfied: qtconsole in c:\\users\\quang tung\\appdata\\local\\programs\\python\\python310\\lib\\site-packages (from jupyter) (5.2.2)\n",
      "Requirement already satisfied: nbconvert in c:\\users\\quang tung\\appdata\\local\\programs\\python\\python310\\lib\\site-packages (from jupyter) (6.4.2)\n",
      "Requirement already satisfied: matplotlib-inline<0.2.0,>=0.1.0 in c:\\users\\quang tung\\appdata\\local\\programs\\python\\python310\\lib\\site-packages (from ipykernel->jupyter) (0.1.3)\n",
      "Requirement already satisfied: debugpy<2.0,>=1.0.0 in c:\\users\\quang tung\\appdata\\local\\programs\\python\\python310\\lib\\site-packages (from ipykernel->jupyter) (1.5.1)\n",
      "Requirement already satisfied: ipython>=7.23.1 in c:\\users\\quang tung\\appdata\\local\\programs\\python\\python310\\lib\\site-packages (from ipykernel->jupyter) (8.0.1)\n",
      "Requirement already satisfied: jupyter-client<8.0 in c:\\users\\quang tung\\appdata\\local\\programs\\python\\python310\\lib\\site-packages (from ipykernel->jupyter) (7.1.2)\n",
      "Requirement already satisfied: tornado<7.0,>=4.2 in c:\\users\\quang tung\\appdata\\local\\programs\\python\\python310\\lib\\site-packages (from ipykernel->jupyter) (6.1)\n",
      "Requirement already satisfied: traitlets<6.0,>=5.1.0 in c:\\users\\quang tung\\appdata\\local\\programs\\python\\python310\\lib\\site-packages (from ipykernel->jupyter) (5.1.1)\n",
      "Requirement already satisfied: nest-asyncio in c:\\users\\quang tung\\appdata\\local\\programs\\python\\python310\\lib\\site-packages (from ipykernel->jupyter) (1.5.4)\n",
      "Requirement already satisfied: pickleshare in c:\\users\\quang tung\\appdata\\local\\programs\\python\\python310\\lib\\site-packages (from ipython>=7.23.1->ipykernel->jupyter) (0.7.5)\n",
      "Requirement already satisfied: stack-data in c:\\users\\quang tung\\appdata\\local\\programs\\python\\python310\\lib\\site-packages (from ipython>=7.23.1->ipykernel->jupyter) (0.2.0)\n",
      "Requirement already satisfied: prompt-toolkit!=3.0.0,!=3.0.1,<3.1.0,>=2.0.0 in c:\\users\\quang tung\\appdata\\local\\programs\\python\\python310\\lib\\site-packages (from ipython>=7.23.1->ipykernel->jupyter) (3.0.28)\n",
      "Requirement already satisfied: black in c:\\users\\quang tung\\appdata\\local\\programs\\python\\python310\\lib\\site-packages (from ipython>=7.23.1->ipykernel->jupyter) (22.1.0)\n",
      "Requirement already satisfied: decorator in c:\\users\\quang tung\\appdata\\local\\programs\\python\\python310\\lib\\site-packages (from ipython>=7.23.1->ipykernel->jupyter) (5.1.1)\n",
      "Requirement already satisfied: pygments in c:\\users\\quang tung\\appdata\\local\\programs\\python\\python310\\lib\\site-packages (from ipython>=7.23.1->ipykernel->jupyter) (2.11.2)\n",
      "Requirement already satisfied: jedi>=0.16 in c:\\users\\quang tung\\appdata\\local\\programs\\python\\python310\\lib\\site-packages (from ipython>=7.23.1->ipykernel->jupyter) (0.18.1)\n",
      "Requirement already satisfied: colorama in c:\\users\\quang tung\\appdata\\local\\programs\\python\\python310\\lib\\site-packages (from ipython>=7.23.1->ipykernel->jupyter) (0.4.4)\n",
      "Requirement already satisfied: backcall in c:\\users\\quang tung\\appdata\\local\\programs\\python\\python310\\lib\\site-packages (from ipython>=7.23.1->ipykernel->jupyter) (0.2.0)\n",
      "Requirement already satisfied: setuptools>=18.5 in c:\\users\\quang tung\\appdata\\local\\programs\\python\\python310\\lib\\site-packages (from ipython>=7.23.1->ipykernel->jupyter) (58.1.0)\n",
      "Requirement already satisfied: parso<0.9.0,>=0.8.0 in c:\\users\\quang tung\\appdata\\local\\programs\\python\\python310\\lib\\site-packages (from jedi>=0.16->ipython>=7.23.1->ipykernel->jupyter) (0.8.3)\n",
      "Requirement already satisfied: pyzmq>=13 in c:\\users\\quang tung\\appdata\\local\\programs\\python\\python310\\lib\\site-packages (from jupyter-client<8.0->ipykernel->jupyter) (22.3.0)\n",
      "Requirement already satisfied: python-dateutil>=2.1 in c:\\users\\quang tung\\appdata\\local\\programs\\python\\python310\\lib\\site-packages (from jupyter-client<8.0->ipykernel->jupyter) (2.8.2)\n",
      "Requirement already satisfied: jupyter-core>=4.6.0 in c:\\users\\quang tung\\appdata\\local\\programs\\python\\python310\\lib\\site-packages (from jupyter-client<8.0->ipykernel->jupyter) (4.9.2)\n",
      "Requirement already satisfied: entrypoints in c:\\users\\quang tung\\appdata\\local\\programs\\python\\python310\\lib\\site-packages (from jupyter-client<8.0->ipykernel->jupyter) (0.4)\n",
      "Requirement already satisfied: pywin32>=1.0 in c:\\users\\quang tung\\appdata\\local\\programs\\python\\python310\\lib\\site-packages (from jupyter-core>=4.6.0->jupyter-client<8.0->ipykernel->jupyter) (303)\n",
      "Requirement already satisfied: wcwidth in c:\\users\\quang tung\\appdata\\local\\programs\\python\\python310\\lib\\site-packages (from prompt-toolkit!=3.0.0,!=3.0.1,<3.1.0,>=2.0.0->ipython>=7.23.1->ipykernel->jupyter) (0.2.5)\n",
      "Requirement already satisfied: six>=1.5 in c:\\users\\quang tung\\appdata\\local\\programs\\python\\python310\\lib\\site-packages (from python-dateutil>=2.1->jupyter-client<8.0->ipykernel->jupyter) (1.16.0)\n",
      "Requirement already satisfied: tomli>=1.1.0 in c:\\users\\quang tung\\appdata\\local\\programs\\python\\python310\\lib\\site-packages (from black->ipython>=7.23.1->ipykernel->jupyter) (2.0.1)\n",
      "Requirement already satisfied: platformdirs>=2 in c:\\users\\quang tung\\appdata\\local\\programs\\python\\python310\\lib\\site-packages (from black->ipython>=7.23.1->ipykernel->jupyter) (2.5.0)\n",
      "Requirement already satisfied: click>=8.0.0 in c:\\users\\quang tung\\appdata\\local\\programs\\python\\python310\\lib\\site-packages (from black->ipython>=7.23.1->ipykernel->jupyter) (8.0.3)\n",
      "Requirement already satisfied: pathspec>=0.9.0 in c:\\users\\quang tung\\appdata\\local\\programs\\python\\python310\\lib\\site-packages (from black->ipython>=7.23.1->ipykernel->jupyter) (0.9.0)\n",
      "Requirement already satisfied: mypy-extensions>=0.4.3 in c:\\users\\quang tung\\appdata\\local\\programs\\python\\python310\\lib\\site-packages (from black->ipython>=7.23.1->ipykernel->jupyter) (0.4.3)\n",
      "Requirement already satisfied: jupyterlab-widgets>=1.0.0 in c:\\users\\quang tung\\appdata\\local\\programs\\python\\python310\\lib\\site-packages (from ipywidgets->jupyter) (1.0.2)\n",
      "Requirement already satisfied: ipython-genutils~=0.2.0 in c:\\users\\quang tung\\appdata\\local\\programs\\python\\python310\\lib\\site-packages (from ipywidgets->jupyter) (0.2.0)\n",
      "Requirement already satisfied: widgetsnbextension~=3.5.0 in c:\\users\\quang tung\\appdata\\local\\programs\\python\\python310\\lib\\site-packages (from ipywidgets->jupyter) (3.5.2)\n",
      "Requirement already satisfied: nbformat>=4.2.0 in c:\\users\\quang tung\\appdata\\local\\programs\\python\\python310\\lib\\site-packages (from ipywidgets->jupyter) (5.1.3)\n",
      "Requirement already satisfied: jsonschema!=2.5.0,>=2.4 in c:\\users\\quang tung\\appdata\\local\\programs\\python\\python310\\lib\\site-packages (from nbformat>=4.2.0->ipywidgets->jupyter) (4.4.0)\n",
      "Requirement already satisfied: pyrsistent!=0.17.0,!=0.17.1,!=0.17.2,>=0.14.0 in c:\\users\\quang tung\\appdata\\local\\programs\\python\\python310\\lib\\site-packages (from jsonschema!=2.5.0,>=2.4->nbformat>=4.2.0->ipywidgets->jupyter) (0.18.1)\n",
      "Requirement already satisfied: attrs>=17.4.0 in c:\\users\\quang tung\\appdata\\local\\programs\\python\\python310\\lib\\site-packages (from jsonschema!=2.5.0,>=2.4->nbformat>=4.2.0->ipywidgets->jupyter) (21.4.0)\n",
      "Requirement already satisfied: argon2-cffi in c:\\users\\quang tung\\appdata\\local\\programs\\python\\python310\\lib\\site-packages (from notebook->jupyter) (21.3.0)\n",
      "Requirement already satisfied: jinja2 in c:\\users\\quang tung\\appdata\\local\\programs\\python\\python310\\lib\\site-packages (from notebook->jupyter) (3.0.3)\n",
      "Requirement already satisfied: Send2Trash>=1.8.0 in c:\\users\\quang tung\\appdata\\local\\programs\\python\\python310\\lib\\site-packages (from notebook->jupyter) (1.8.0)\n",
      "Requirement already satisfied: prometheus-client in c:\\users\\quang tung\\appdata\\local\\programs\\python\\python310\\lib\\site-packages (from notebook->jupyter) (0.13.1)\n",
      "Requirement already satisfied: terminado>=0.8.3 in c:\\users\\quang tung\\appdata\\local\\programs\\python\\python310\\lib\\site-packages (from notebook->jupyter) (0.13.1)\n",
      "Requirement already satisfied: pywinpty>=1.1.0 in c:\\users\\quang tung\\appdata\\local\\programs\\python\\python310\\lib\\site-packages (from terminado>=0.8.3->notebook->jupyter) (2.0.2)\n",
      "Requirement already satisfied: argon2-cffi-bindings in c:\\users\\quang tung\\appdata\\local\\programs\\python\\python310\\lib\\site-packages (from argon2-cffi->notebook->jupyter) (21.2.0)\n",
      "Requirement already satisfied: cffi>=1.0.1 in c:\\users\\quang tung\\appdata\\local\\programs\\python\\python310\\lib\\site-packages (from argon2-cffi-bindings->argon2-cffi->notebook->jupyter) (1.15.0)\n",
      "Requirement already satisfied: pycparser in c:\\users\\quang tung\\appdata\\local\\programs\\python\\python310\\lib\\site-packages (from cffi>=1.0.1->argon2-cffi-bindings->argon2-cffi->notebook->jupyter) (2.21)\n",
      "Requirement already satisfied: MarkupSafe>=2.0 in c:\\users\\quang tung\\appdata\\local\\programs\\python\\python310\\lib\\site-packages (from jinja2->notebook->jupyter) (2.0.1)\n",
      "Requirement already satisfied: defusedxml in c:\\users\\quang tung\\appdata\\local\\programs\\python\\python310\\lib\\site-packages (from nbconvert->jupyter) (0.7.1)\n",
      "Requirement already satisfied: jupyterlab-pygments in c:\\users\\quang tung\\appdata\\local\\programs\\python\\python310\\lib\\site-packages (from nbconvert->jupyter) (0.1.2)\n",
      "Requirement already satisfied: bleach in c:\\users\\quang tung\\appdata\\local\\programs\\python\\python310\\lib\\site-packages (from nbconvert->jupyter) (4.1.0)\n",
      "Requirement already satisfied: nbclient<0.6.0,>=0.5.0 in c:\\users\\quang tung\\appdata\\local\\programs\\python\\python310\\lib\\site-packages (from nbconvert->jupyter) (0.5.11)\n",
      "Requirement already satisfied: mistune<2,>=0.8.1 in c:\\users\\quang tung\\appdata\\local\\programs\\python\\python310\\lib\\site-packages (from nbconvert->jupyter) (0.8.4)\n",
      "Requirement already satisfied: testpath in c:\\users\\quang tung\\appdata\\local\\programs\\python\\python310\\lib\\site-packages (from nbconvert->jupyter) (0.5.0)\n",
      "Requirement already satisfied: pandocfilters>=1.4.1 in c:\\users\\quang tung\\appdata\\local\\programs\\python\\python310\\lib\\site-packages (from nbconvert->jupyter) (1.5.0)\n",
      "Requirement already satisfied: webencodings in c:\\users\\quang tung\\appdata\\local\\programs\\python\\python310\\lib\\site-packages (from bleach->nbconvert->jupyter) (0.5.1)\n",
      "Requirement already satisfied: packaging in c:\\users\\quang tung\\appdata\\local\\programs\\python\\python310\\lib\\site-packages (from bleach->nbconvert->jupyter) (21.3)\n",
      "Requirement already satisfied: pyparsing!=3.0.5,>=2.0.2 in c:\\users\\quang tung\\appdata\\local\\programs\\python\\python310\\lib\\site-packages (from packaging->bleach->nbconvert->jupyter) (3.0.7)\n",
      "Requirement already satisfied: qtpy in c:\\users\\quang tung\\appdata\\local\\programs\\python\\python310\\lib\\site-packages (from qtconsole->jupyter) (2.0.1)\n",
      "Requirement already satisfied: asttokens in c:\\users\\quang tung\\appdata\\local\\programs\\python\\python310\\lib\\site-packages (from stack-data->ipython>=7.23.1->ipykernel->jupyter) (2.0.5)\n",
      "Requirement already satisfied: pure-eval in c:\\users\\quang tung\\appdata\\local\\programs\\python\\python310\\lib\\site-packages (from stack-data->ipython>=7.23.1->ipykernel->jupyter) (0.2.2)\n",
      "Requirement already satisfied: executing in c:\\users\\quang tung\\appdata\\local\\programs\\python\\python310\\lib\\site-packages (from stack-data->ipython>=7.23.1->ipykernel->jupyter) (0.8.2)\n"
     ]
    }
   ],
   "source": [
    "! pip install jupyter\n"
   ]
  },
  {
   "cell_type": "code",
   "execution_count": null,
   "id": "28256d23",
   "metadata": {},
   "outputs": [],
   "source": []
  },
  {
   "cell_type": "markdown",
   "id": "327a8a11",
   "metadata": {},
   "source": [
    "### Sử dụng turtle"
   ]
  },
  {
   "cell_type": "markdown",
   "id": "10e0be43",
   "metadata": {},
   "source": [
    "Bước 1: Import module turle\n"
   ]
  },
  {
   "cell_type": "code",
   "execution_count": 15,
   "id": "781d6b32",
   "metadata": {},
   "outputs": [],
   "source": [
    "from turtle import Turtle"
   ]
  },
  {
   "cell_type": "markdown",
   "id": "d20f3f3f",
   "metadata": {},
   "source": [
    "Bước 2: Tạo đối tượng turle"
   ]
  },
  {
   "cell_type": "code",
   "execution_count": 16,
   "id": "9d62ff7d",
   "metadata": {
    "scrolled": true
   },
   "outputs": [],
   "source": [
    "pen = Turtle()"
   ]
  },
  {
   "cell_type": "markdown",
   "id": "62a000c8",
   "metadata": {},
   "source": [
    "Bước 3: Vẽ bằng các phương thức của turtle"
   ]
  },
  {
   "cell_type": "code",
   "execution_count": 7,
   "id": "b772347e",
   "metadata": {},
   "outputs": [
    {
     "ename": "NameError",
     "evalue": "name 'pen' is not defined",
     "output_type": "error",
     "traceback": [
      "\u001b[1;31m---------------------------------------------------------------------------\u001b[0m",
      "\u001b[1;31mNameError\u001b[0m                                 Traceback (most recent call last)",
      "Input \u001b[1;32mIn [7]\u001b[0m, in \u001b[0;36m<module>\u001b[1;34m\u001b[0m\n\u001b[1;32m----> 1\u001b[0m \u001b[43mpen\u001b[49m\u001b[38;5;241m.\u001b[39mforward(\u001b[38;5;241m250\u001b[39m)\n",
      "\u001b[1;31mNameError\u001b[0m: name 'pen' is not defined"
     ]
    }
   ],
   "source": [
    "pen.forward(250)"
   ]
  },
  {
   "cell_type": "markdown",
   "id": "8e0f4830",
   "metadata": {},
   "source": [
    "Bước 4: Hoàn thành vẽ"
   ]
  },
  {
   "cell_type": "code",
   "execution_count": 18,
   "id": "8e4a076e",
   "metadata": {},
   "outputs": [],
   "source": [
    "turtle.done()"
   ]
  },
  {
   "cell_type": "markdown",
   "id": "850cff26",
   "metadata": {},
   "source": [
    "### Thực hành: Vẽ hình vuông"
   ]
  },
  {
   "cell_type": "code",
   "execution_count": 32,
   "id": "7e69bd76",
   "metadata": {
    "scrolled": true
   },
   "outputs": [
    {
     "ename": "TypeError",
     "evalue": "object of type 'int' has no len()",
     "output_type": "error",
     "traceback": [
      "\u001b[1;31m---------------------------------------------------------------------------\u001b[0m",
      "\u001b[1;31mTypeError\u001b[0m                                 Traceback (most recent call last)",
      "Input \u001b[1;32mIn [32]\u001b[0m, in \u001b[0;36m<module>\u001b[1;34m\u001b[0m\n\u001b[0;32m      5\u001b[0m pen \u001b[38;5;241m=\u001b[39m turtle\u001b[38;5;241m.\u001b[39mTurtle()\n\u001b[0;32m      6\u001b[0m pen\u001b[38;5;241m.\u001b[39mspeed(\u001b[38;5;241m0\u001b[39m)\n\u001b[1;32m----> 7\u001b[0m \u001b[43mpen\u001b[49m\u001b[38;5;241;43m.\u001b[39;49m\u001b[43mcolor\u001b[49m\u001b[43m(\u001b[49m\u001b[43mrandint\u001b[49m\u001b[43m(\u001b[49m\u001b[38;5;241;43m0\u001b[39;49m\u001b[43m,\u001b[49m\u001b[38;5;241;43m250\u001b[39;49m\u001b[43m)\u001b[49m\u001b[43m)\u001b[49m\n\u001b[0;32m      9\u001b[0m pen\u001b[38;5;241m.\u001b[39mforward(\u001b[38;5;241m200\u001b[39m)\n\u001b[0;32m     10\u001b[0m pen\u001b[38;5;241m.\u001b[39mright(\u001b[38;5;241m90\u001b[39m)\n",
      "File \u001b[1;32m~\\AppData\\Local\\Programs\\Python\\Python310\\lib\\turtle.py:2217\u001b[0m, in \u001b[0;36mTPen.color\u001b[1;34m(self, *args)\u001b[0m\n\u001b[0;32m   2215\u001b[0m \u001b[38;5;28;01melif\u001b[39;00m l \u001b[38;5;241m==\u001b[39m \u001b[38;5;241m3\u001b[39m:\n\u001b[0;32m   2216\u001b[0m     pcolor \u001b[38;5;241m=\u001b[39m fcolor \u001b[38;5;241m=\u001b[39m args\n\u001b[1;32m-> 2217\u001b[0m pcolor \u001b[38;5;241m=\u001b[39m \u001b[38;5;28;43mself\u001b[39;49m\u001b[38;5;241;43m.\u001b[39;49m\u001b[43m_colorstr\u001b[49m\u001b[43m(\u001b[49m\u001b[43mpcolor\u001b[49m\u001b[43m)\u001b[49m\n\u001b[0;32m   2218\u001b[0m fcolor \u001b[38;5;241m=\u001b[39m \u001b[38;5;28mself\u001b[39m\u001b[38;5;241m.\u001b[39m_colorstr(fcolor)\n\u001b[0;32m   2219\u001b[0m \u001b[38;5;28mself\u001b[39m\u001b[38;5;241m.\u001b[39mpen(pencolor\u001b[38;5;241m=\u001b[39mpcolor, fillcolor\u001b[38;5;241m=\u001b[39mfcolor)\n",
      "File \u001b[1;32m~\\AppData\\Local\\Programs\\Python\\Python310\\lib\\turtle.py:2697\u001b[0m, in \u001b[0;36mRawTurtle._colorstr\u001b[1;34m(self, args)\u001b[0m\n\u001b[0;32m   2696\u001b[0m \u001b[38;5;28;01mdef\u001b[39;00m \u001b[38;5;21m_colorstr\u001b[39m(\u001b[38;5;28mself\u001b[39m, args):\n\u001b[1;32m-> 2697\u001b[0m     \u001b[38;5;28;01mreturn\u001b[39;00m \u001b[38;5;28;43mself\u001b[39;49m\u001b[38;5;241;43m.\u001b[39;49m\u001b[43mscreen\u001b[49m\u001b[38;5;241;43m.\u001b[39;49m\u001b[43m_colorstr\u001b[49m\u001b[43m(\u001b[49m\u001b[43margs\u001b[49m\u001b[43m)\u001b[49m\n",
      "File \u001b[1;32m~\\AppData\\Local\\Programs\\Python\\Python310\\lib\\turtle.py:1153\u001b[0m, in \u001b[0;36mTurtleScreen._colorstr\u001b[1;34m(self, color)\u001b[0m\n\u001b[0;32m   1143\u001b[0m \u001b[38;5;28;01mdef\u001b[39;00m \u001b[38;5;21m_colorstr\u001b[39m(\u001b[38;5;28mself\u001b[39m, color):\n\u001b[0;32m   1144\u001b[0m     \u001b[38;5;124;03m\"\"\"Return color string corresponding to args.\u001b[39;00m\n\u001b[0;32m   1145\u001b[0m \n\u001b[0;32m   1146\u001b[0m \u001b[38;5;124;03m    Argument may be a string or a tuple of three\u001b[39;00m\n\u001b[1;32m   (...)\u001b[0m\n\u001b[0;32m   1151\u001b[0m \u001b[38;5;124;03m    an error is raised.\u001b[39;00m\n\u001b[0;32m   1152\u001b[0m \u001b[38;5;124;03m    \"\"\"\u001b[39;00m\n\u001b[1;32m-> 1153\u001b[0m     \u001b[38;5;28;01mif\u001b[39;00m \u001b[38;5;28;43mlen\u001b[39;49m\u001b[43m(\u001b[49m\u001b[43mcolor\u001b[49m\u001b[43m)\u001b[49m \u001b[38;5;241m==\u001b[39m \u001b[38;5;241m1\u001b[39m:\n\u001b[0;32m   1154\u001b[0m         color \u001b[38;5;241m=\u001b[39m color[\u001b[38;5;241m0\u001b[39m]\n\u001b[0;32m   1155\u001b[0m     \u001b[38;5;28;01mif\u001b[39;00m \u001b[38;5;28misinstance\u001b[39m(color, \u001b[38;5;28mstr\u001b[39m):\n",
      "\u001b[1;31mTypeError\u001b[0m: object of type 'int' has no len()"
     ]
    }
   ],
   "source": []
  },
  {
   "cell_type": "markdown",
   "id": "5887d86b",
   "metadata": {},
   "source": [
    "### Thực hành: Vẽ hình tam giác đều"
   ]
  },
  {
   "cell_type": "code",
   "execution_count": 36,
   "id": "4bbbad3a",
   "metadata": {},
   "outputs": [],
   "source": [
    "import turtle\n",
    "pen = turtle.Turtle()\n",
    "\n",
    "\n",
    "pen.right(72)\n",
    "pen.forward(200)\n",
    "pen.right(144)\n",
    "pen.right(72)\n",
    "pen.forward(200)\n",
    "pen.right(144)\n",
    "pen.right(72)\n",
    "pen.forward(200)\n",
    "pen.right(144)\n",
    "pen.right(72)\n",
    "pen.forward(200)\n",
    "pen.right(144)\n",
    "pen.right(72)\n",
    "pen.forward(200)\n",
    "pen.right(144)\n",
    "\n",
    "\n",
    "turtle.done()\n"
   ]
  },
  {
   "cell_type": "markdown",
   "id": "286e4627",
   "metadata": {},
   "source": [
    "### Các lệnh điều khiển nét bút"
   ]
  },
  {
   "cell_type": "markdown",
   "id": "172501b8",
   "metadata": {},
   "source": [
    "Thay đổi kích thước của bút"
   ]
  },
  {
   "cell_type": "code",
   "execution_count": null,
   "id": "7fb9025f",
   "metadata": {},
   "outputs": [],
   "source": []
  },
  {
   "cell_type": "markdown",
   "id": "a2f89a48",
   "metadata": {},
   "source": [
    "Nhấc bút lên"
   ]
  },
  {
   "cell_type": "code",
   "execution_count": null,
   "id": "e5ea9ef7",
   "metadata": {},
   "outputs": [],
   "source": []
  },
  {
   "cell_type": "markdown",
   "id": "249ee9cd",
   "metadata": {},
   "source": [
    "Đặt bút xuống"
   ]
  },
  {
   "cell_type": "code",
   "execution_count": null,
   "id": "cbb2b715",
   "metadata": {},
   "outputs": [],
   "source": []
  },
  {
   "cell_type": "markdown",
   "id": "9a4a4e08",
   "metadata": {},
   "source": [
    "### Điều chỉnh màu sắc trong turtle"
   ]
  },
  {
   "cell_type": "markdown",
   "id": "767c4808",
   "metadata": {},
   "source": [
    "Thay đổi màu rùa"
   ]
  },
  {
   "cell_type": "code",
   "execution_count": null,
   "id": "e8e0a962",
   "metadata": {},
   "outputs": [],
   "source": []
  },
  {
   "cell_type": "markdown",
   "id": "e587faf1",
   "metadata": {},
   "source": [
    "Thay đổi màu bút"
   ]
  },
  {
   "cell_type": "code",
   "execution_count": null,
   "id": "4227ed0a",
   "metadata": {},
   "outputs": [],
   "source": []
  },
  {
   "cell_type": "markdown",
   "id": "9f9b669a",
   "metadata": {},
   "source": [
    "Thay đổi tốc độ"
   ]
  },
  {
   "cell_type": "code",
   "execution_count": null,
   "id": "4f7bcc7b",
   "metadata": {},
   "outputs": [],
   "source": []
  }
 ],
 "metadata": {
  "kernelspec": {
   "display_name": "Python 3 (ipykernel)",
   "language": "python",
   "name": "python3"
  },
  "language_info": {
   "codemirror_mode": {
    "name": "ipython",
    "version": 3
   },
   "file_extension": ".py",
   "mimetype": "text/x-python",
   "name": "python",
   "nbconvert_exporter": "python",
   "pygments_lexer": "ipython3",
   "version": "3.10.2"
  }
 },
 "nbformat": 4,
 "nbformat_minor": 5
}
